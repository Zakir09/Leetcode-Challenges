{
 "cells": [
  {
   "cell_type": "markdown",
   "id": "3473aa69-fa90-4dfc-9c7c-dd5cddedb121",
   "metadata": {},
   "source": [
    "# Leetcode Challenges"
   ]
  },
  {
   "cell_type": "markdown",
   "id": "b67bd5e3-b60b-45cb-a0c1-c324a2a491d7",
   "metadata": {},
   "source": [
    "## These are the Leetcode challenges that I have done based from the Interview Master 100 Collection"
   ]
  },
  {
   "cell_type": "markdown",
   "id": "1b5be107-7269-47f6-90aa-43a13fc34e60",
   "metadata": {},
   "source": [
    "1. Two Sum\n",
    "\n",
    "    Given an array of integers nums and an integer target, return indices of the two numbers such that they add up to target.\n",
    "\n",
    "    You may assume that each input would have exactly one solution, and you may not use the same element twice.\n",
    "\n",
    "    You can return the answer in any order."
   ]
  },
  {
   "cell_type": "code",
   "execution_count": null,
   "id": "80db92cb-956a-4036-a322-3354a3a8ad25",
   "metadata": {},
   "outputs": [],
   "source": [
    "class Solution(object):\n",
    "    def twoSum(self, nums, target):\n",
    "        hashmap = {}\n",
    "        for i, n in enumerate(nums):\n",
    "            res = target - n\n",
    "            if res in hashmap:\n",
    "                return [hashmap[res], i]\n",
    "            else:\n",
    "                hashmap[n] = i\n"
   ]
  },
  {
   "cell_type": "markdown",
   "id": "bbacabda-f25c-489e-be03-119498ef1c7d",
   "metadata": {},
   "source": [
    "2. Valid Parentheses\n",
    "   \n",
    "   Given a string s containing just the characters '(', ')', '{', '}', '[' and ']', determine if the input string is valid.\n",
    "\n",
    "    An input string is valid if:\n",
    "    \n",
    "    Open brackets must be closed by the same type of brackets.\n",
    "    Open brackets must be closed in the correct order.\n",
    "    Every close bracket has a corresponding open bracket of the same type."
   ]
  },
  {
   "cell_type": "code",
   "execution_count": null,
   "id": "f01ab850-1568-402f-9df2-ce22500ea847",
   "metadata": {},
   "outputs": [],
   "source": [
    "class Solution(object):\n",
    "    def isValid(self, s):\n",
    "        stack = []\n",
    "        charb = {'}' : '{', ')' : '(', ']' : '['}\n",
    "        for i in s:\n",
    "            if i not in charb:\n",
    "                stack.append(i)\n",
    "            else:\n",
    "                if stack and charb[i] == stack[-1]:\n",
    "                    stack.pop()\n",
    "                else:\n",
    "                    return False\n",
    "        return False if stack else True"
   ]
  },
  {
   "cell_type": "markdown",
   "id": "b67dca5a-285b-446b-a477-b4dd240c4f94",
   "metadata": {},
   "source": [
    "3. Merge Two Sorted Lists\n",
    "\n",
    "   You are given the heads of two sorted linked lists list1 and list2.\n",
    "\n",
    "    Merge the two lists into one sorted list. The list should be made by splicing together the nodes of the first two lists.\n",
    "    \n",
    "    Return the head of the merged linked list."
   ]
  },
  {
   "cell_type": "code",
   "execution_count": null,
   "id": "1a9b1421-0404-40cc-99bf-e08dd75e5342",
   "metadata": {},
   "outputs": [],
   "source": [
    "class Solution(object):\n",
    "    def mergeTwoLists(self, list1, list2):\n",
    "        dummy = ListNode()\n",
    "        tail = dummy\n",
    "        while list1 and list2:\n",
    "            if list1.val < list2.val:\n",
    "                tail.next = list1\n",
    "                list1 = list1.next\n",
    "            else:\n",
    "                tail.next = list2\n",
    "                list2 = list2.next\n",
    "            tail = tail.next\n",
    "        if list1:\n",
    "            tail.next = list1\n",
    "        elif list2:\n",
    "            tail.next = list2\n",
    "        return dummy.next"
   ]
  },
  {
   "cell_type": "markdown",
   "id": "dd64db9d-c027-4b5c-a8f4-e178d5737276",
   "metadata": {},
   "source": [
    "4. Best Time to Buy and Sell Stock\n",
    "\n",
    "   You are given an array prices where prices[i] is the price of a given stock on the ith day.\n",
    "\n",
    "    You want to maximize your profit by choosing a single day to buy one stock and choosing a different day in the future to sell that stock.\n",
    "    \n",
    "    Return the maximum profit you can achieve from this transaction. If you cannot achieve any profit, return 0."
   ]
  },
  {
   "cell_type": "code",
   "execution_count": null,
   "id": "f3ad74a2-1dd1-4ca8-bc8f-fbe6a8edd84b",
   "metadata": {},
   "outputs": [],
   "source": [
    "class Solution(object):\n",
    "    def maxProfit(self, prices):\n",
    "        l, r = 0, 1\n",
    "        maxP = 0\n",
    "        while r < len(prices):\n",
    "            if prices[l] > prices[r]:\n",
    "                l = r\n",
    "            else:\n",
    "                profit = prices[r] - prices[l]\n",
    "                maxP = max(maxP, profit)\n",
    "            r += 1\n",
    "        return maxP"
   ]
  },
  {
   "cell_type": "markdown",
   "id": "36737785-61d4-4707-b45c-525b6b56fe9a",
   "metadata": {},
   "source": [
    "5. Valid Palindrome\n",
    "\n",
    "   A phrase is a palindrome if, after converting all uppercase letters into lowercase letters and removing all non-alphanumeric characters, it reads the same forward and backward. Alphanumeric characters include letters and numbers.\n",
    "    \n",
    "    Given a string s, return true if it is a palindrome, or false otherwise."
   ]
  },
  {
   "cell_type": "code",
   "execution_count": null,
   "id": "24336d37-e864-4693-8459-871f53081c91",
   "metadata": {},
   "outputs": [],
   "source": [
    "class Solution(object):\n",
    "    def isPalindrome(self, s):\n",
    "        l, r = 0, len(s) - 1\n",
    "        while l < r:\n",
    "            while l < r and not self.asciichar(s[l]):\n",
    "                l += 1\n",
    "            while r > l and not self.asciichar(s[r]):\n",
    "                r -= 1\n",
    "            if s[l].lower() != s[r].lower():\n",
    "                return False\n",
    "            l, r = l+1, r-1\n",
    "        return True\n",
    "\n",
    "\n",
    "\n",
    "    def asciichar(self, c):\n",
    "        return (\n",
    "            (ord('A') <= ord(c) <= ord('Z')) or\n",
    "            (ord('a') <= ord(c) <= ord('z')) or\n",
    "            (ord('0') <= ord(c) <= ord('9'))\n",
    "        )"
   ]
  },
  {
   "cell_type": "markdown",
   "id": "d8c36d03-ab19-4048-835a-40e4e54878ba",
   "metadata": {},
   "source": [
    "6. Invert Binary Tree\n",
    "\n",
    "   Given the root of a binary tree, invert the tree, and return its root."
   ]
  },
  {
   "cell_type": "code",
   "execution_count": null,
   "id": "a8627f57-8c1f-4340-948b-1a704c4d8ec6",
   "metadata": {},
   "outputs": [],
   "source": [
    "class Solution(object):\n",
    "    def invertTree(self, root):\n",
    "        if not root:\n",
    "            return None\n",
    "            \n",
    "        root.left, root.right = root.right, root.left\n",
    "        self.invertTree(root.left)\n",
    "        self.invertTree(root.right)\n",
    "\n",
    "        return root"
   ]
  },
  {
   "cell_type": "markdown",
   "id": "07812bab-1da5-4bf8-947d-ecad2f757a2b",
   "metadata": {},
   "source": [
    "7. Valid Anagram\n",
    "\n",
    "   Given two strings s and t, return true if t is an anagram of s, and false otherwise."
   ]
  },
  {
   "cell_type": "code",
   "execution_count": null,
   "id": "8d8cb598-5139-47ed-9c23-78896c8d242e",
   "metadata": {},
   "outputs": [],
   "source": [
    "class Solution(object):\n",
    "    def isAnagram(self, s, t):\n",
    "        if len(s) != len(t):\n",
    "            return False\n",
    "\n",
    "        hashs, hasht = {}, {}\n",
    "\n",
    "        for i in range(len(s)):\n",
    "            hashs[s[i]] = 1 + hashs.get(s[i], 0)\n",
    "            hasht[t[i]] = 1 + hasht.get(t[i], 0)\n",
    "        for c in s:\n",
    "            if hashs[c] != hasht.get(c, 0):\n",
    "                return False\n",
    "        return True"
   ]
  },
  {
   "cell_type": "markdown",
   "id": "71bcdfef-a7ee-4110-a697-4a02cd8a7a2a",
   "metadata": {},
   "source": [
    "8. Binary Search\n",
    "\n",
    "   Given an array of integers nums which is sorted in ascending order, and an integer target, write a function to search target in nums. If target exists, then return its index. Otherwise, return -1.\n",
    "    \n",
    "    You must write an algorithm with O(log n) runtime complexity."
   ]
  },
  {
   "cell_type": "code",
   "execution_count": null,
   "id": "debe3ef5-c600-4680-8974-000d944e2c86",
   "metadata": {},
   "outputs": [],
   "source": [
    "class Solution(object):\n",
    "    def search(self, nums, target):\n",
    "        l, r = 0, len(nums) - 1\n",
    "        while l <= r:\n",
    "            m = l + ((r-l) // 2)\n",
    "            if nums[m] < target:\n",
    "                l = m + 1\n",
    "            elif nums[m] > target:\n",
    "                r = m - 1\n",
    "            else:\n",
    "                return m\n",
    "        return -1"
   ]
  },
  {
   "cell_type": "markdown",
   "id": "d9650155-b156-44c3-bce2-a5a40e7e6c5f",
   "metadata": {},
   "source": [
    "9. Linked List Cycle\n",
    "\n",
    "    Given head, the head of a linked list, determine if the linked list has a cycle in it.\n",
    "    \n",
    "    There is a cycle in a linked list if there is some node in the list that can be reached again by continuously following the next pointer. Internally, pos is used to denote the index of the node that tail's next pointer is connected to. Note that pos is not passed as a parameter.\n",
    "    \n",
    "    Return true if there is a cycle in the linked list. Otherwise, return false."
   ]
  },
  {
   "cell_type": "code",
   "execution_count": null,
   "id": "79d50446-f839-4b0a-8a6f-adcf9f64c8e3",
   "metadata": {},
   "outputs": [],
   "source": [
    "class Solution(object):\n",
    "    def hasCycle(self, head):\n",
    "        slow, fast = head, head\n",
    "        while fast and fast.next:\n",
    "            slow = slow.next\n",
    "            fast = fast.next.next\n",
    "            if slow == fast:\n",
    "                return True\n",
    "        return False"
   ]
  },
  {
   "cell_type": "markdown",
   "id": "3eaa0f6d-e2cb-470c-acd0-e72119bde5d0",
   "metadata": {},
   "source": [
    "10. Maximum Depth of Binary Tree\n",
    "\n",
    "    Given the root of a binary tree, return its maximum depth.\n",
    "    \n",
    "    A binary tree's maximum depth is the number of nodes along the longest path from the root node down to the farthest leaf node."
   ]
  },
  {
   "cell_type": "code",
   "execution_count": null,
   "id": "b53c81d4-9e10-4188-ba6b-f4df94855073",
   "metadata": {},
   "outputs": [],
   "source": [
    "# DPS \n",
    "\n",
    "class Solution(object):\n",
    "    def maxDepth(self, root):\n",
    "        stack = [[root, 1]]\n",
    "        level = 0\n",
    "        while stack:\n",
    "            node, depth = stack.pop()\n",
    "            if node:\n",
    "                level = max(level, depth)\n",
    "                stack.append([node.left, depth + 1])\n",
    "                stack.append([node.right, depth + 1])\n",
    "        return level\n",
    "        "
   ]
  },
  {
   "cell_type": "code",
   "execution_count": null,
   "id": "a361f7ca-0410-499e-a318-9eb6e20101b3",
   "metadata": {},
   "outputs": [],
   "source": [
    "# BFS \n",
    "\n",
    "class Solution(object):\n",
    "    def maxDepth(self, root):\n",
    "        if not root:\n",
    "            return 0\n",
    "        level = 0\n",
    "        q = deque([root])\n",
    "        while q:\n",
    "            for i in range(len(q)):\n",
    "                node = q.popleft()\n",
    "                if node.left:\n",
    "                    q.append(node.left)\n",
    "                if node.right:\n",
    "                    q.append(node.right)\n",
    "            level += 1\n",
    "        return level"
   ]
  }
 ],
 "metadata": {
  "kernelspec": {
   "display_name": "Python 3 (ipykernel)",
   "language": "python",
   "name": "python3"
  },
  "language_info": {
   "codemirror_mode": {
    "name": "ipython",
    "version": 3
   },
   "file_extension": ".py",
   "mimetype": "text/x-python",
   "name": "python",
   "nbconvert_exporter": "python",
   "pygments_lexer": "ipython3",
   "version": "3.12.7"
  }
 },
 "nbformat": 4,
 "nbformat_minor": 5
}
